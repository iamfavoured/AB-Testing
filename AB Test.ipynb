{
 "cells": [
  {
   "cell_type": "markdown",
   "id": "39e5a6a0-3d1b-45d0-baea-3cd3f9b44d70",
   "metadata": {
    "tags": []
   },
   "source": [
    "### AB Testing"
   ]
  },
  {
   "cell_type": "code",
   "execution_count": null,
   "id": "a05a07d2-4893-495b-a1ef-a0b17b36d191",
   "metadata": {},
   "outputs": [],
   "source": [
    "#### It is Basically a statistical way of comparing 2 Versions (Version A and B) \n",
    "### to understand not just which version performs better but to understand if the difference  between the version is statistically significant"
   ]
  },
  {
   "cell_type": "code",
   "execution_count": null,
   "id": "ba3ec8d1-ce71-480c-9b69-46e28e11db69",
   "metadata": {},
   "outputs": [],
   "source": [
    "#### Before you perform your AB Test, you need to ascertain the criteria for success(metric) : it can either be discrete/binomial distribution"
   ]
  },
  {
   "cell_type": "markdown",
   "id": "f7b58546-618b-4847-bb66-71ef4581a358",
   "metadata": {
    "tags": []
   },
   "source": [
    "#### Discrete Metrics:"
   ]
  },
  {
   "cell_type": "code",
   "execution_count": null,
   "id": "4e662b33-604e-4c9d-a4f0-1f1281e4485e",
   "metadata": {},
   "outputs": [],
   "source": [
    "#### Click-through-rate\n",
    "#### Conversion-rate\n",
    "#### Bounce-rate"
   ]
  },
  {
   "cell_type": "markdown",
   "id": "8640d18c-77b1-40e3-9ff9-6962291d958a",
   "metadata": {},
   "source": [
    "#### Binomial Metrics:"
   ]
  },
  {
   "cell_type": "code",
   "execution_count": 2,
   "id": "fb42e062-3154-4161-9217-6f4940a81867",
   "metadata": {},
   "outputs": [],
   "source": [
    "### Average Revenue\n",
    "### Average order value\n",
    "### Duration per session"
   ]
  },
  {
   "cell_type": "markdown",
   "id": "e4eea15e-01b9-46a8-b580-0ca5dd34354c",
   "metadata": {},
   "source": [
    "#### Metric for Discrete"
   ]
  },
  {
   "cell_type": "code",
   "execution_count": null,
   "id": "ed5f402e-2a7f-4feb-a2dc-cfdc0432f7ea",
   "metadata": {},
   "outputs": [],
   "source": [
    "### Fishers Test\n",
    "### Chi-squared Test etc"
   ]
  },
  {
   "cell_type": "markdown",
   "id": "11cdc40a-23f8-4573-9f01-ef4d18e158df",
   "metadata": {},
   "source": [
    "#### Metric for Binomial"
   ]
  },
  {
   "cell_type": "code",
   "execution_count": null,
   "id": "c4b441a6-ebd6-47d2-a6c2-e72d74250fc2",
   "metadata": {},
   "outputs": [],
   "source": [
    "### Student Test\n",
    "### Z-test\n",
    "### Welsh Test etc"
   ]
  },
  {
   "cell_type": "markdown",
   "id": "6ab4d877-315b-4135-acf4-0dfec720fcd3",
   "metadata": {},
   "source": [
    "### Random AB-Test"
   ]
  },
  {
   "cell_type": "code",
   "execution_count": 13,
   "id": "0798d586-441d-4178-ab77-73524ddcb7b5",
   "metadata": {},
   "outputs": [],
   "source": [
    "## Importing the lib we may need\n",
    "\n",
    "import matplotlib.pyplot as plt\n",
    "import numpy as np\n",
    "import pandas as pd\n",
    "from scipy.special import binom\n",
    "from scipy.stats import chi2_contingency, mannwhitneyu, norm, t, ttest_ind\n",
    "\n",
    "%matplotlib inline"
   ]
  },
  {
   "cell_type": "code",
   "execution_count": 14,
   "id": "74f3910a-fa35-4294-9897-4bc492a613c8",
   "metadata": {},
   "outputs": [
    {
     "name": "stdout",
     "output_type": "stream",
     "text": [
      "- Observations:\n",
      "  - Version A: = [1 0 0 1 1 1 1 0 0 0 1 0 0 1 1]\n",
      "  - Version B: = [0 0 0 0 0 1 0 0 0 0 1 0 0 0 0 1 0 0 1]\n",
      "\n",
      "- Contingency table:\n"
     ]
    },
    {
     "data": {
      "text/html": [
       "<div>\n",
       "<style scoped>\n",
       "    .dataframe tbody tr th:only-of-type {\n",
       "        vertical-align: middle;\n",
       "    }\n",
       "\n",
       "    .dataframe tbody tr th {\n",
       "        vertical-align: top;\n",
       "    }\n",
       "\n",
       "    .dataframe thead th {\n",
       "        text-align: right;\n",
       "    }\n",
       "</style>\n",
       "<table border=\"1\" class=\"dataframe\">\n",
       "  <thead>\n",
       "    <tr style=\"text-align: right;\">\n",
       "      <th></th>\n",
       "      <th>A</th>\n",
       "      <th>B</th>\n",
       "    </tr>\n",
       "  </thead>\n",
       "  <tbody>\n",
       "    <tr>\n",
       "      <th>click</th>\n",
       "      <td>7</td>\n",
       "      <td>15</td>\n",
       "    </tr>\n",
       "    <tr>\n",
       "      <th>no click</th>\n",
       "      <td>8</td>\n",
       "      <td>4</td>\n",
       "    </tr>\n",
       "  </tbody>\n",
       "</table>\n",
       "</div>"
      ],
      "text/plain": [
       "          A   B\n",
       "click     7  15\n",
       "no click  8   4"
      ]
     },
     "metadata": {},
     "output_type": "display_data"
    }
   ],
   "source": [
    "## Generating Random DATA for AB Test\n",
    "\n",
    "np.random.seed(42)\n",
    "\n",
    "x = np.random.binomial(n=1, p=0.6, size=15)\n",
    "y = np.random.binomial(n=1, p=0.4, size=19)\n",
    "\n",
    "_, (a, c) = np.unique(x, return_counts=True)\n",
    "_, (b, d) = np.unique(y, return_counts=True)\n",
    "\n",
    "df = pd.DataFrame(data=[[a, b], [c, d]], \n",
    "                 index=[\"click\", \"no click\"], \n",
    "                 columns=[\"A\", \"B\"])\n",
    "m = df.values\n",
    "\n",
    "print(\"- Observations:\")\n",
    "print(f\"  - Version A: = {x}\")\n",
    "print(f\"  - Version B: = {y}\")\n",
    "print(\"\")\n",
    "print(\"- Contingency table:\")\n",
    "display(df)"
   ]
  },
  {
   "cell_type": "code",
   "execution_count": 15,
   "id": "7c5478e3-38b5-47d9-b964-ea84cbd08eb5",
   "metadata": {},
   "outputs": [],
   "source": [
    "### Virtually all metrics needed for AB Test can be gotten from the Stats Module in the Sci-py lib\n",
    "\n",
    "from scipy.stats import fisher_exact"
   ]
  },
  {
   "cell_type": "code",
   "execution_count": 17,
   "id": "ce4858d7-033f-4633-9c19-d14ba20d6f0f",
   "metadata": {},
   "outputs": [
    {
     "name": "stdout",
     "output_type": "stream",
     "text": [
      "The P value is 0.07516241879060466\n"
     ]
    }
   ],
   "source": [
    "### The Null hypothesis is that the difference in the versions are not statistically significant\n",
    "### The P value will help us ascertain whether to debunk or retain this null hypothesis\n",
    "### For P value <= 0.005, we reject the null hypothesis\n",
    "### For P value > 0.005, we retain the null hypothesis\n",
    "\n",
    "print(f'The P value is {fisher_exact(df)[1]}')"
   ]
  },
  {
   "cell_type": "code",
   "execution_count": 18,
   "id": "3a5aae8b-fe26-479a-b28c-e61dc3aa3b81",
   "metadata": {},
   "outputs": [],
   "source": [
    "## The P value is > 0.005 thus we retain the null hypothesis which says the difference is not statistically significant"
   ]
  },
  {
   "cell_type": "code",
   "execution_count": null,
   "id": "2967286e-9d32-42a4-821d-e770140240a2",
   "metadata": {},
   "outputs": [],
   "source": []
  }
 ],
 "metadata": {
  "kernelspec": {
   "display_name": "Python 3 (ipykernel)",
   "language": "python",
   "name": "python3"
  },
  "language_info": {
   "codemirror_mode": {
    "name": "ipython",
    "version": 3
   },
   "file_extension": ".py",
   "mimetype": "text/x-python",
   "name": "python",
   "nbconvert_exporter": "python",
   "pygments_lexer": "ipython3",
   "version": "3.9.12"
  }
 },
 "nbformat": 4,
 "nbformat_minor": 5
}
